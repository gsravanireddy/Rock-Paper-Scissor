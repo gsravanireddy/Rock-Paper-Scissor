{
 "cells": [
  {
   "cell_type": "code",
   "execution_count": 7,
   "metadata": {},
   "outputs": [],
   "source": [
    "def takePlayerInput():\n",
    "    player = \"blank\"\n",
    "    while not(player.lower()==\"r\" or player.lower()==\"p\" or player.lower()==\"s\"):\n",
    "        player=input(\"Please enter your input( R | P | S ) \")\n",
    "    return player"
   ]
  },
  {
   "cell_type": "code",
   "execution_count": 8,
   "metadata": {},
   "outputs": [
    {
     "name": "stdout",
     "output_type": "stream",
     "text": [
      "Please enter your input( R | P | S ) R\n"
     ]
    },
    {
     "data": {
      "text/plain": [
       "'R'"
      ]
     },
     "execution_count": 8,
     "metadata": {},
     "output_type": "execute_result"
    }
   ],
   "source": [
    "takePlayerInput()"
   ]
  },
  {
   "cell_type": "code",
   "execution_count": 10,
   "metadata": {},
   "outputs": [],
   "source": [
    "import random\n",
    "def getBotInput():\n",
    "    lst=['r','s','p']\n",
    "    return random.choice(lst)"
   ]
  },
  {
   "cell_type": "code",
   "execution_count": 12,
   "metadata": {},
   "outputs": [
    {
     "data": {
      "text/plain": [
       "'s'"
      ]
     },
     "execution_count": 12,
     "metadata": {},
     "output_type": "execute_result"
    }
   ],
   "source": [
    "getBotInput()"
   ]
  },
  {
   "cell_type": "code",
   "execution_count": 14,
   "metadata": {},
   "outputs": [],
   "source": [
    "def checkWinner(player,bot):\n",
    "    if player==\"r\" and bot==\"r\":\n",
    "        return \"draw\"\n",
    "    elif player==\"r\" and bot==\"p\":\n",
    "        return \"bot\"\n",
    "    elif player==\"r\" and bot==\"s\":\n",
    "        return \"player\"\n",
    "    elif player==\"p\" and bot==\"p\":\n",
    "        return \"draw\"\n",
    "    elif player==\"p\" and bot==\"r\":\n",
    "        return \"player\"\n",
    "    elif player==\"r\" and bot==\"s\":\n",
    "        return \"bot\"\n",
    "    elif player==\"s\" and bot==\"p\":\n",
    "        return \"player\"\n",
    "    elif player==\"s\" and bot==\"r\":\n",
    "        return \"bot\"\n",
    "    elif player==\"s\" and bot==\"s\":\n",
    "        return \"draw\"\n",
    "    else:\n",
    "        return \"draw\""
   ]
  },
  {
   "cell_type": "code",
   "execution_count": 18,
   "metadata": {},
   "outputs": [
    {
     "data": {
      "text/plain": [
       "'draw'"
      ]
     },
     "execution_count": 18,
     "metadata": {},
     "output_type": "execute_result"
    }
   ],
   "source": [
    "checkWinner(player=\"p\",bot=\"p\")"
   ]
  },
  {
   "cell_type": "code",
   "execution_count": 29,
   "metadata": {},
   "outputs": [],
   "source": [
    "def rockPaperScissor():\n",
    "    endTheGame = 'n'\n",
    "    player_score=0\n",
    "    bot_score=0\n",
    "    while endTheGame.lower()!='y':\n",
    "        ply=takePlayerInput()\n",
    "        bt=getBotInput()\n",
    "        print(\"Bot Entered: \",bt)\n",
    "        print(\" \")\n",
    "        winner=checkWinner(player=ply,bot=bt)\n",
    "        print(\"Winner: \",winner)\n",
    "        print(\" \")\n",
    "        if winner==\"player\":\n",
    "            player_score += 2\n",
    "        elif winner==\"bot\":\n",
    "            bot_score += 2\n",
    "        else:\n",
    "            player_score += 1\n",
    "            bot_score += 1\n",
    "        print(\"----Score Board----\")\n",
    "        print(\"----Player----\",player_score)\n",
    "        print(\"----Bot----\",bot_score)\n",
    "        \n",
    "        endTheGame = input(\"You want to end(Y|N): \")"
   ]
  },
  {
   "cell_type": "code",
   "execution_count": 30,
   "metadata": {},
   "outputs": [
    {
     "name": "stdout",
     "output_type": "stream",
     "text": [
      "Please enter your input( R | P | S ) r\n",
      "Bot Entered:  s\n",
      " \n",
      "Winner:  player\n",
      " \n",
      "----Score Board----\n",
      "----Player---- 2\n",
      "----Bot---- 0\n",
      "You want to end(Y|N): y\n"
     ]
    }
   ],
   "source": [
    "rockPaperScissor()"
   ]
  }
 ],
 "metadata": {
  "kernelspec": {
   "display_name": "Python 3",
   "language": "python",
   "name": "python3"
  },
  "language_info": {
   "codemirror_mode": {
    "name": "ipython",
    "version": 3
   },
   "file_extension": ".py",
   "mimetype": "text/x-python",
   "name": "python",
   "nbconvert_exporter": "python",
   "pygments_lexer": "ipython3",
   "version": "3.8.3"
  }
 },
 "nbformat": 4,
 "nbformat_minor": 4
}
